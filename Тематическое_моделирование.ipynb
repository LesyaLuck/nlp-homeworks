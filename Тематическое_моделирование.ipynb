{
  "nbformat": 4,
  "nbformat_minor": 0,
  "metadata": {
    "colab": {
      "provenance": [],
      "gpuType": "T4",
      "authorship_tag": "ABX9TyO52TtfDN1otWH7raVJSI8i",
      "include_colab_link": true
    },
    "kernelspec": {
      "name": "python3",
      "display_name": "Python 3"
    },
    "language_info": {
      "name": "python"
    },
    "accelerator": "GPU",
    "gpuClass": "standard"
  },
  "cells": [
    {
      "cell_type": "markdown",
      "metadata": {
        "id": "view-in-github",
        "colab_type": "text"
      },
      "source": [
        "<a href=\"https://colab.research.google.com/github/LesyaLuck/nlp-homeworks/blob/main/%D0%A2%D0%B5%D0%BC%D0%B0%D1%82%D0%B8%D1%87%D0%B5%D1%81%D0%BA%D0%BE%D0%B5_%D0%BC%D0%BE%D0%B4%D0%B5%D0%BB%D0%B8%D1%80%D0%BE%D0%B2%D0%B0%D0%BD%D0%B8%D0%B5.ipynb\" target=\"_parent\"><img src=\"https://colab.research.google.com/assets/colab-badge.svg\" alt=\"Open In Colab\"/></a>"
      ]
    },
    {
      "cell_type": "code",
      "execution_count": 2,
      "metadata": {
        "id": "Z_8gvE0icWk5"
      },
      "outputs": [],
      "source": [
        "import pandas as pd\n",
        "import matplotlib.pyplot as plt\n",
        "import warnings\n",
        "warnings.filterwarnings('ignore')\n",
        "\n",
        "%matplotlib inline \n",
        "import bz2\n",
        "import sys"
      ]
    },
    {
      "cell_type": "code",
      "source": [
        "from google.colab import drive\n",
        "drive.mount('/content/gdrive')\n",
        "with bz2.open(\"/content/gdrive/My Drive/banki_responses.json.bz2\", 'rt', encoding='utf-8') as f:\n",
        "  json_df = pd.read_json(f, lines=True)"
      ],
      "metadata": {
        "id": "6gD3TSBXdFxf",
        "colab": {
          "base_uri": "https://localhost:8080/"
        },
        "outputId": "e19bfaec-66de-45a6-a1c2-fdcefa5bbdc5"
      },
      "execution_count": 3,
      "outputs": [
        {
          "output_type": "stream",
          "name": "stdout",
          "text": [
            "Drive already mounted at /content/gdrive; to attempt to forcibly remount, call drive.mount(\"/content/gdrive\", force_remount=True).\n"
          ]
        }
      ]
    },
    {
      "cell_type": "code",
      "source": [
        "json_df.info()"
      ],
      "metadata": {
        "id": "QL9yEQfxdbOI",
        "colab": {
          "base_uri": "https://localhost:8080/"
        },
        "outputId": "a4628be6-1c1d-4b36-dd30-d706428fdf91"
      },
      "execution_count": 4,
      "outputs": [
        {
          "output_type": "stream",
          "name": "stdout",
          "text": [
            "<class 'pandas.core.frame.DataFrame'>\n",
            "RangeIndex: 201030 entries, 0 to 201029\n",
            "Data columns (total 10 columns):\n",
            " #   Column              Non-Null Count   Dtype         \n",
            "---  ------              --------------   -----         \n",
            " 0   city                185492 non-null  object        \n",
            " 1   rating_not_checked  201030 non-null  bool          \n",
            " 2   title               201030 non-null  object        \n",
            " 3   num_comments        201030 non-null  int64         \n",
            " 4   bank_license        201026 non-null  object        \n",
            " 5   author              201009 non-null  object        \n",
            " 6   bank_name           201030 non-null  object        \n",
            " 7   datetime            201030 non-null  datetime64[ns]\n",
            " 8   text                201030 non-null  object        \n",
            " 9   rating_grade        136189 non-null  float64       \n",
            "dtypes: bool(1), datetime64[ns](1), float64(1), int64(1), object(6)\n",
            "memory usage: 14.0+ MB\n"
          ]
        }
      ]
    },
    {
      "cell_type": "code",
      "source": [
        "json_df.head() #сам отзыв в поле text, имя банка bank_name"
      ],
      "metadata": {
        "id": "R3LwQCztCeQv",
        "colab": {
          "base_uri": "https://localhost:8080/",
          "height": 337
        },
        "outputId": "aab88ae1-e4da-4593-c80d-c5a590f0c306"
      },
      "execution_count": 5,
      "outputs": [
        {
          "output_type": "execute_result",
          "data": {
            "text/plain": [
              "                 city  rating_not_checked  \\\n",
              "0          г. Воронеж                True   \n",
              "1           г. Казань                True   \n",
              "2  г. Санкт-Петербург                True   \n",
              "3           г. Москва                True   \n",
              "4        г. Волгоград                True   \n",
              "\n",
              "                                 title  num_comments     bank_license  \\\n",
              "0                        Ипотека на 5+             0  лицензия № 1623   \n",
              "1                       ЗВОНКИ СОСЕДЯМ             0  лицензия № 2289   \n",
              "2                Ложная информация!!!!             0  лицензия № 2307   \n",
              "3  Банкомат не зачислил деньги на счет             1  лицензия № 2557   \n",
              "4   Невозможно закрыть карту 2(два)!!!             0  лицензия № 3354   \n",
              "\n",
              "              author         bank_name            datetime  \\\n",
              "0         e.novikova            ВТБ 24 2015-06-08 11:06:56   \n",
              "1  KZN\\Vorontsova_NA  Русский Стандарт 2015-06-06 18:17:52   \n",
              "2          Evgenia15              Союз 2015-06-07 19:08:33   \n",
              "3        dolgov.work          Ситибанк 2015-06-07 19:22:00   \n",
              "4            copLine  Ренессанс Кредит 2015-06-08 14:54:55   \n",
              "\n",
              "                                                text  rating_grade  \n",
              "0  Здравствуйте!  Хотелось бы выразить благодарно...           5.0  \n",
              "1  Уважаемые представители департамента по работе...           2.0  \n",
              "2  Здравствуйте. Столкнулась с такой ситуацией. в...           2.0  \n",
              "3  1 июня 2015 в Москве в отделении по адресу Смо...           1.0  \n",
              "4  История очень долгая! Пришел я в банк (это раз...           1.0  "
            ],
            "text/html": [
              "\n",
              "  <div id=\"df-9a8683f1-3712-4905-8c27-20c3bfbaf18d\">\n",
              "    <div class=\"colab-df-container\">\n",
              "      <div>\n",
              "<style scoped>\n",
              "    .dataframe tbody tr th:only-of-type {\n",
              "        vertical-align: middle;\n",
              "    }\n",
              "\n",
              "    .dataframe tbody tr th {\n",
              "        vertical-align: top;\n",
              "    }\n",
              "\n",
              "    .dataframe thead th {\n",
              "        text-align: right;\n",
              "    }\n",
              "</style>\n",
              "<table border=\"1\" class=\"dataframe\">\n",
              "  <thead>\n",
              "    <tr style=\"text-align: right;\">\n",
              "      <th></th>\n",
              "      <th>city</th>\n",
              "      <th>rating_not_checked</th>\n",
              "      <th>title</th>\n",
              "      <th>num_comments</th>\n",
              "      <th>bank_license</th>\n",
              "      <th>author</th>\n",
              "      <th>bank_name</th>\n",
              "      <th>datetime</th>\n",
              "      <th>text</th>\n",
              "      <th>rating_grade</th>\n",
              "    </tr>\n",
              "  </thead>\n",
              "  <tbody>\n",
              "    <tr>\n",
              "      <th>0</th>\n",
              "      <td>г. Воронеж</td>\n",
              "      <td>True</td>\n",
              "      <td>Ипотека на 5+</td>\n",
              "      <td>0</td>\n",
              "      <td>лицензия № 1623</td>\n",
              "      <td>e.novikova</td>\n",
              "      <td>ВТБ 24</td>\n",
              "      <td>2015-06-08 11:06:56</td>\n",
              "      <td>Здравствуйте!  Хотелось бы выразить благодарно...</td>\n",
              "      <td>5.0</td>\n",
              "    </tr>\n",
              "    <tr>\n",
              "      <th>1</th>\n",
              "      <td>г. Казань</td>\n",
              "      <td>True</td>\n",
              "      <td>ЗВОНКИ СОСЕДЯМ</td>\n",
              "      <td>0</td>\n",
              "      <td>лицензия № 2289</td>\n",
              "      <td>KZN\\Vorontsova_NA</td>\n",
              "      <td>Русский Стандарт</td>\n",
              "      <td>2015-06-06 18:17:52</td>\n",
              "      <td>Уважаемые представители департамента по работе...</td>\n",
              "      <td>2.0</td>\n",
              "    </tr>\n",
              "    <tr>\n",
              "      <th>2</th>\n",
              "      <td>г. Санкт-Петербург</td>\n",
              "      <td>True</td>\n",
              "      <td>Ложная информация!!!!</td>\n",
              "      <td>0</td>\n",
              "      <td>лицензия № 2307</td>\n",
              "      <td>Evgenia15</td>\n",
              "      <td>Союз</td>\n",
              "      <td>2015-06-07 19:08:33</td>\n",
              "      <td>Здравствуйте. Столкнулась с такой ситуацией. в...</td>\n",
              "      <td>2.0</td>\n",
              "    </tr>\n",
              "    <tr>\n",
              "      <th>3</th>\n",
              "      <td>г. Москва</td>\n",
              "      <td>True</td>\n",
              "      <td>Банкомат не зачислил деньги на счет</td>\n",
              "      <td>1</td>\n",
              "      <td>лицензия № 2557</td>\n",
              "      <td>dolgov.work</td>\n",
              "      <td>Ситибанк</td>\n",
              "      <td>2015-06-07 19:22:00</td>\n",
              "      <td>1 июня 2015 в Москве в отделении по адресу Смо...</td>\n",
              "      <td>1.0</td>\n",
              "    </tr>\n",
              "    <tr>\n",
              "      <th>4</th>\n",
              "      <td>г. Волгоград</td>\n",
              "      <td>True</td>\n",
              "      <td>Невозможно закрыть карту 2(два)!!!</td>\n",
              "      <td>0</td>\n",
              "      <td>лицензия № 3354</td>\n",
              "      <td>copLine</td>\n",
              "      <td>Ренессанс Кредит</td>\n",
              "      <td>2015-06-08 14:54:55</td>\n",
              "      <td>История очень долгая! Пришел я в банк (это раз...</td>\n",
              "      <td>1.0</td>\n",
              "    </tr>\n",
              "  </tbody>\n",
              "</table>\n",
              "</div>\n",
              "      <button class=\"colab-df-convert\" onclick=\"convertToInteractive('df-9a8683f1-3712-4905-8c27-20c3bfbaf18d')\"\n",
              "              title=\"Convert this dataframe to an interactive table.\"\n",
              "              style=\"display:none;\">\n",
              "        \n",
              "  <svg xmlns=\"http://www.w3.org/2000/svg\" height=\"24px\"viewBox=\"0 0 24 24\"\n",
              "       width=\"24px\">\n",
              "    <path d=\"M0 0h24v24H0V0z\" fill=\"none\"/>\n",
              "    <path d=\"M18.56 5.44l.94 2.06.94-2.06 2.06-.94-2.06-.94-.94-2.06-.94 2.06-2.06.94zm-11 1L8.5 8.5l.94-2.06 2.06-.94-2.06-.94L8.5 2.5l-.94 2.06-2.06.94zm10 10l.94 2.06.94-2.06 2.06-.94-2.06-.94-.94-2.06-.94 2.06-2.06.94z\"/><path d=\"M17.41 7.96l-1.37-1.37c-.4-.4-.92-.59-1.43-.59-.52 0-1.04.2-1.43.59L10.3 9.45l-7.72 7.72c-.78.78-.78 2.05 0 2.83L4 21.41c.39.39.9.59 1.41.59.51 0 1.02-.2 1.41-.59l7.78-7.78 2.81-2.81c.8-.78.8-2.07 0-2.86zM5.41 20L4 18.59l7.72-7.72 1.47 1.35L5.41 20z\"/>\n",
              "  </svg>\n",
              "      </button>\n",
              "      \n",
              "  <style>\n",
              "    .colab-df-container {\n",
              "      display:flex;\n",
              "      flex-wrap:wrap;\n",
              "      gap: 12px;\n",
              "    }\n",
              "\n",
              "    .colab-df-convert {\n",
              "      background-color: #E8F0FE;\n",
              "      border: none;\n",
              "      border-radius: 50%;\n",
              "      cursor: pointer;\n",
              "      display: none;\n",
              "      fill: #1967D2;\n",
              "      height: 32px;\n",
              "      padding: 0 0 0 0;\n",
              "      width: 32px;\n",
              "    }\n",
              "\n",
              "    .colab-df-convert:hover {\n",
              "      background-color: #E2EBFA;\n",
              "      box-shadow: 0px 1px 2px rgba(60, 64, 67, 0.3), 0px 1px 3px 1px rgba(60, 64, 67, 0.15);\n",
              "      fill: #174EA6;\n",
              "    }\n",
              "\n",
              "    [theme=dark] .colab-df-convert {\n",
              "      background-color: #3B4455;\n",
              "      fill: #D2E3FC;\n",
              "    }\n",
              "\n",
              "    [theme=dark] .colab-df-convert:hover {\n",
              "      background-color: #434B5C;\n",
              "      box-shadow: 0px 1px 3px 1px rgba(0, 0, 0, 0.15);\n",
              "      filter: drop-shadow(0px 1px 2px rgba(0, 0, 0, 0.3));\n",
              "      fill: #FFFFFF;\n",
              "    }\n",
              "  </style>\n",
              "\n",
              "      <script>\n",
              "        const buttonEl =\n",
              "          document.querySelector('#df-9a8683f1-3712-4905-8c27-20c3bfbaf18d button.colab-df-convert');\n",
              "        buttonEl.style.display =\n",
              "          google.colab.kernel.accessAllowed ? 'block' : 'none';\n",
              "\n",
              "        async function convertToInteractive(key) {\n",
              "          const element = document.querySelector('#df-9a8683f1-3712-4905-8c27-20c3bfbaf18d');\n",
              "          const dataTable =\n",
              "            await google.colab.kernel.invokeFunction('convertToInteractive',\n",
              "                                                     [key], {});\n",
              "          if (!dataTable) return;\n",
              "\n",
              "          const docLinkHtml = 'Like what you see? Visit the ' +\n",
              "            '<a target=\"_blank\" href=https://colab.research.google.com/notebooks/data_table.ipynb>data table notebook</a>'\n",
              "            + ' to learn more about interactive tables.';\n",
              "          element.innerHTML = '';\n",
              "          dataTable['output_type'] = 'display_data';\n",
              "          await google.colab.output.renderOutput(dataTable, element);\n",
              "          const docLink = document.createElement('div');\n",
              "          docLink.innerHTML = docLinkHtml;\n",
              "          element.appendChild(docLink);\n",
              "        }\n",
              "      </script>\n",
              "    </div>\n",
              "  </div>\n",
              "  "
            ]
          },
          "metadata": {},
          "execution_count": 5
        }
      ]
    },
    {
      "cell_type": "markdown",
      "source": [
        "Часть 1. Анализ текстов"
      ],
      "metadata": {
        "id": "XEH0d0boCgzI"
      }
    },
    {
      "cell_type": "markdown",
      "source": [
        "1. Посчитайте количество отзывов в разных городах и на разные банки"
      ],
      "metadata": {
        "id": "oqv32EBpD3N2"
      }
    },
    {
      "cell_type": "code",
      "source": [
        "json_df.city.value_counts() #заметно, что город был произвольным полем, поэтому какого-то единства написания субъектов РФ здесь мы не наблюдаем"
      ],
      "metadata": {
        "id": "Lw4b2hHFEAja",
        "colab": {
          "base_uri": "https://localhost:8080/"
        },
        "outputId": "52ced94f-0e57-41bc-a40b-8c01cbe76bb4"
      },
      "execution_count": 6,
      "outputs": [
        {
          "output_type": "execute_result",
          "data": {
            "text/plain": [
              "г. Москва                                73715\n",
              "г. Санкт-Петербург                       18614\n",
              "г. Екатеринбург                           3211\n",
              "г. Новосибирск                            3081\n",
              "г. Нижний Новгород                        2596\n",
              "                                         ...  \n",
              "г. Москва/Хабаровск                          1\n",
              "г. ст.советская                              1\n",
              "г. Сочи, Краснодар, Туапсе                   1\n",
              "г. Североуральск Свердловской области        1\n",
              "г. Краснодарский край, ст.Павловская         1\n",
              "Name: city, Length: 7151, dtype: int64"
            ]
          },
          "metadata": {},
          "execution_count": 6
        }
      ]
    },
    {
      "cell_type": "code",
      "source": [
        "json_df.bank_name.value_counts()  #с названием банка ситуация получше, наименования будто из списка"
      ],
      "metadata": {
        "id": "LkYt00LqEmwr",
        "colab": {
          "base_uri": "https://localhost:8080/"
        },
        "outputId": "83279453-67fd-4aab-9164-186f26ba9eb5"
      },
      "execution_count": 7,
      "outputs": [
        {
          "output_type": "execute_result",
          "data": {
            "text/plain": [
              "Сбербанк России            30977\n",
              "Альфа-Банк                 13651\n",
              "Русский Стандарт           10952\n",
              "ВТБ 24                     10556\n",
              "Хоум Кредит Банк           10130\n",
              "                           ...  \n",
              "Ипотека-Инвест                 1\n",
              "Держава                        1\n",
              "Банк на Красных Воротах        1\n",
              "Ураллига                       1\n",
              "Каспий                         1\n",
              "Name: bank_name, Length: 733, dtype: int64"
            ]
          },
          "metadata": {},
          "execution_count": 7
        }
      ]
    },
    {
      "cell_type": "markdown",
      "source": [
        "2. Постройте гистограмы длин слов в символах и в словах"
      ],
      "metadata": {
        "id": "T6lSob3wGQQ8"
      }
    },
    {
      "cell_type": "code",
      "source": [
        "import re\n",
        "import gensim\n",
        "def sent_to_words(sentences):\n",
        "    for sent in sentences:\n",
        "        sent = gensim.utils.simple_preprocess(str(sent), deacc=True) \n",
        "        yield(sent)  \n",
        "# Convert to list\n",
        "data = json_df.text.values.tolist()\n",
        "data_words = list(sent_to_words(data))\n",
        "print(data_words[:1])"
      ],
      "metadata": {
        "id": "sgK7GLgiJLg_",
        "colab": {
          "base_uri": "https://localhost:8080/"
        },
        "outputId": "d646eaeb-4450-4071-919c-333f663976ca"
      },
      "execution_count": 8,
      "outputs": [
        {
          "output_type": "stream",
          "name": "stdout",
          "text": [
            "[['здравствуите', 'хотелось', 'бы', 'выразить', 'благодарность', 'банку', 'втб', 'воронеж', 'пл', 'ленина', 'непосредственно', 'специалисту', 'по', 'ипотечному', 'кредитованию', 'мещеряковои', 'юлии', 'анатольевне', 'это', 'уже', 'моя', 'вторая', 'ипотека', 'этом', 'банке', 'этого', 'специалиста', 'вопросов', 'подачеи', 'документов', 'не', 'было', 'быстрое', 'принятие', 'решения', 'об', 'одобрении', 'всеи', 'необходимои', 'суммы', 'никаких', 'проблем', 'выдачеи', 'кредита', 'удобно', 'что', 'никуда', 'не', 'нужно', 'ходить', 'со', 'сторонними', 'организациями', 'не', 'нужно', 'договариваться', 'на', 'оценку', 'сотрудники', 'банка', 'приехали', 'вовремя', 'страховку', 'оформили', 'перед', 'выдачеи', 'кредита', 'отделении', 'банка', 'все', 'быстро', 'четко', 'слаженно', 'на', 'все', 'мои', 'вопросы', 'сравнении', 'условии', 'юлия', 'подробно', 'отвечала', 'что', 'сомнении', 'никаких', 'не', 'возникло', 'каком', 'именно', 'банке', 'брать', 'был', 'выбор', 'между', 'сбербанком', 'втб', 'из', 'дополнительных', 'расходов', 'при', 'выдаче', 'кредита', 'только', 'страховка', 'что', 'является', 'сеичас', 'обязательным', 'условием', 'при', 'оформлении', 'ипотеки', 'также', 'мне', 'оформили', 'карту', 'привилегия', 'бесплатно', 'очень', 'было', 'приятно', 'всем', 'своим', 'знакомым', 'рекомендую', 'обращаться', 'юлии', 'некоторые', 'уже', 'взяли', 'ипотеку', 'всегда', 'только', 'положительные', 'отзывы', 'спасибо', 'за', 'хорошее', 'отношение', 'клиентам']]\n"
          ]
        }
      ]
    },
    {
      "cell_type": "code",
      "source": [
        "tokens = []\n",
        "for group in data_words:\n",
        "    tokens.extend(group)"
      ],
      "metadata": {
        "id": "x72s8IgaJMN1"
      },
      "execution_count": 9,
      "outputs": []
    },
    {
      "cell_type": "code",
      "source": [
        "from collections import Counter\n",
        "c = Counter(tokens)"
      ],
      "metadata": {
        "id": "C6zzNoo-TXDd"
      },
      "execution_count": 10,
      "outputs": []
    },
    {
      "cell_type": "code",
      "source": [
        "import operator\n",
        "sorted_tuple = sorted(c.items(), key=operator.itemgetter(1), reverse=True)\n",
        "sort_tokens = dict(sorted_tuple)"
      ],
      "metadata": {
        "id": "81cS43SEL7Ej"
      },
      "execution_count": 11,
      "outputs": []
    },
    {
      "cell_type": "code",
      "source": [
        "sort_tokens_50 = {}\n",
        "for key, value in list(sort_tokens.items())[:50]:\n",
        "    sort_tokens_50[key] = value"
      ],
      "metadata": {
        "id": "KlCSNbV3L7VM"
      },
      "execution_count": 12,
      "outputs": []
    },
    {
      "cell_type": "code",
      "source": [
        "import matplotlib.pyplot as plt\n",
        "\n",
        "plt.subplots(figsize=(10,5))\n",
        "plt.bar(sort_tokens_50.keys(), height = list(sort_tokens_50.values()), color='navy')\n",
        "plt.xticks(rotation=90)"
      ],
      "metadata": {
        "id": "IZ8qCLxjL7iF",
        "colab": {
          "base_uri": "https://localhost:8080/",
          "height": 1000
        },
        "outputId": "cfe30116-d1b0-4ca6-e4e6-8557fcaf5a42"
      },
      "execution_count": 13,
      "outputs": [
        {
          "output_type": "execute_result",
          "data": {
            "text/plain": [
              "([0,\n",
              "  1,\n",
              "  2,\n",
              "  3,\n",
              "  4,\n",
              "  5,\n",
              "  6,\n",
              "  7,\n",
              "  8,\n",
              "  9,\n",
              "  10,\n",
              "  11,\n",
              "  12,\n",
              "  13,\n",
              "  14,\n",
              "  15,\n",
              "  16,\n",
              "  17,\n",
              "  18,\n",
              "  19,\n",
              "  20,\n",
              "  21,\n",
              "  22,\n",
              "  23,\n",
              "  24,\n",
              "  25,\n",
              "  26,\n",
              "  27,\n",
              "  28,\n",
              "  29,\n",
              "  30,\n",
              "  31,\n",
              "  32,\n",
              "  33,\n",
              "  34,\n",
              "  35,\n",
              "  36,\n",
              "  37,\n",
              "  38,\n",
              "  39,\n",
              "  40,\n",
              "  41,\n",
              "  42,\n",
              "  43,\n",
              "  44,\n",
              "  45,\n",
              "  46,\n",
              "  47,\n",
              "  48,\n",
              "  49],\n",
              " [Text(0, 0, 'не'),\n",
              "  Text(1, 0, 'на'),\n",
              "  Text(2, 0, 'что'),\n",
              "  Text(3, 0, 'по'),\n",
              "  Text(4, 0, 'мне'),\n",
              "  Text(5, 0, 'банка'),\n",
              "  Text(6, 0, 'банк'),\n",
              "  Text(7, 0, 'как'),\n",
              "  Text(8, 0, 'все'),\n",
              "  Text(9, 0, 'за'),\n",
              "  Text(10, 0, 'но'),\n",
              "  Text(11, 0, 'то'),\n",
              "  Text(12, 0, 'меня'),\n",
              "  Text(13, 0, 'это'),\n",
              "  Text(14, 0, 'так'),\n",
              "  Text(15, 0, 'деньги'),\n",
              "  Text(16, 0, 'от'),\n",
              "  Text(17, 0, 'же'),\n",
              "  Text(18, 0, 'было'),\n",
              "  Text(19, 0, 'для'),\n",
              "  Text(20, 0, 'из'),\n",
              "  Text(21, 0, 'уже'),\n",
              "  Text(22, 0, 'через'),\n",
              "  Text(23, 0, 'карту'),\n",
              "  Text(24, 0, 'еще'),\n",
              "  Text(25, 0, 'до'),\n",
              "  Text(26, 0, 'карты'),\n",
              "  Text(27, 0, 'при'),\n",
              "  Text(28, 0, 'только'),\n",
              "  Text(29, 0, 'кредит'),\n",
              "  Text(30, 0, 'нет'),\n",
              "  Text(31, 0, 'если'),\n",
              "  Text(32, 0, 'мои'),\n",
              "  Text(33, 0, 'день'),\n",
              "  Text(34, 0, 'после'),\n",
              "  Text(35, 0, 'когда'),\n",
              "  Text(36, 0, 'банке'),\n",
              "  Text(37, 0, 'раз'),\n",
              "  Text(38, 0, 'очень'),\n",
              "  Text(39, 0, 'бы'),\n",
              "  Text(40, 0, 'был'),\n",
              "  Text(41, 0, 'время'),\n",
              "  Text(42, 0, 'заявление'),\n",
              "  Text(43, 0, 'вы'),\n",
              "  Text(44, 0, 'счет'),\n",
              "  Text(45, 0, 'отделение'),\n",
              "  Text(46, 0, 'или'),\n",
              "  Text(47, 0, 'ни'),\n",
              "  Text(48, 0, 'чтобы'),\n",
              "  Text(49, 0, 'со')])"
            ]
          },
          "metadata": {},
          "execution_count": 13
        },
        {
          "output_type": "display_data",
          "data": {
            "text/plain": [
              "<Figure size 1000x500 with 1 Axes>"
            ],
            "image/png": "[encoded data removed]"
          },
          "metadata": {}
        }
      ]
    },
    {
      "cell_type": "code",
      "source": [
        "tokens_len = list(map(len, tokens))"
      ],
      "metadata": {
        "id": "aJtVuSgZMEmJ"
      },
      "execution_count": 14,
      "outputs": []
    },
    {
      "cell_type": "code",
      "source": [
        "import matplotlib.ticker as ticker\n",
        "\n",
        "fig = plt.figure()\n",
        "ax = fig.add_subplot (111)\n",
        "ax.hist(tokens_len, bins = list(set(tokens_len)), edgecolor='black') \n",
        "ax.xaxis.set_major_locator(ticker.MultipleLocator(1))"
      ],
      "metadata": {
        "id": "8JfCJEGMMEvr"
      },
      "execution_count": null,
      "outputs": []
    },
    {
      "cell_type": "markdown",
      "source": [
        "3. Найдите 10 самых частых слов"
      ],
      "metadata": {
        "id": "4k30coXuMuUP"
      }
    },
    {
      "cell_type": "code",
      "source": [
        "sort_tokens_10 = {}\n",
        "for key, value in list(sort_tokens.items())[:10]:\n",
        "    sort_tokens_50[key] = value\n",
        "    print(f'\"{key}\" встречается {value} раз')"
      ],
      "metadata": {
        "id": "J9l8vcC9ME5J"
      },
      "execution_count": null,
      "outputs": []
    },
    {
      "cell_type": "markdown",
      "source": [
        "Найдите 10 самых частых слов без стоп-слов"
      ],
      "metadata": {
        "id": "Uct2TvxNMN0i"
      }
    },
    {
      "cell_type": "code",
      "source": [
        "from nltk.corpus import stopwords\n",
        "ru_stopwords = stopwords.words('russian')\n",
        "def preprocess(tokens):\n",
        "    return [word\n",
        "        for word in tokens\n",
        "            if (word not in ru_stopwords)]\n",
        "\n",
        "tokens_w_stopwords = preprocess(tokens)\n",
        "\n",
        "c = Counter(tokens_w_stopwords)\n",
        "sorted_tuple = sorted(c.items(), key=operator.itemgetter(1), reverse=True)\n",
        "sort_tokens = dict(sorted_tuple)\n",
        "sort_tokens_10 = {}\n",
        "for key, value in list(sort_tokens.items())[:10]:\n",
        "    sort_tokens_10[key] = value\n",
        "    print(f'\"{key}\" встречается {value} раз')"
      ],
      "metadata": {
        "id": "IP5Pmf3-M7bf"
      },
      "execution_count": null,
      "outputs": []
    },
    {
      "cell_type": "markdown",
      "source": [
        "Найдите 10 самых частых лемм"
      ],
      "metadata": {
        "id": "77l4BlOOJsYW"
      }
    },
    {
      "cell_type": "code",
      "source": [
        "pip install pymorphy2"
      ],
      "metadata": {
        "id": "8dhBf7afZKzW"
      },
      "execution_count": null,
      "outputs": []
    },
    {
      "cell_type": "code",
      "source": [
        "import pymorphy2\n",
        "morph = pymorphy2.MorphAnalyzer()\n",
        "tokens_lemm = []\n",
        "ru_stopwords = stopwords.words('russian')\n",
        "\n",
        "def preprocess(tokens):\n",
        "    return [word\n",
        "        for word in tokens\n",
        "            if (word not in ru_stopwords)]\n",
        "for key in sort_tokens_50:\n",
        "    p = morph.parse(key)[0]\n",
        "    tokens_lemm.append(p.normal_form)\n",
        "tokens_lemm_10 = list(set(preprocess(tokens_lemm)))[:10]\n",
        "tokens_lemm_10   "
      ],
      "metadata": {
        "id": "s93xw5-IQGge"
      },
      "execution_count": null,
      "outputs": []
    },
    {
      "cell_type": "markdown",
      "source": [
        "Найдите 10 самых частых существительных"
      ],
      "metadata": {
        "id": "58u66r9yVX6G"
      }
    },
    {
      "cell_type": "code",
      "source": [
        "morph = pymorphy2.MorphAnalyzer()\n",
        "tokens_noun = []\n",
        "for key in sort_tokens_50:\n",
        "    p = morph.parse(key)[0]\n",
        "    if p.tag.POS=='NOUN':\n",
        "        tokens_noun.append(p.normal_form)\n",
        "set(tokens_noun)"
      ],
      "metadata": {
        "id": "Ixiy5z0WVeoP"
      },
      "execution_count": null,
      "outputs": []
    },
    {
      "cell_type": "markdown",
      "source": [
        "4. Постройте кривые Ципфа и Хипса"
      ],
      "metadata": {
        "id": "wRZf6OdRZSlJ"
      }
    },
    {
      "cell_type": "code",
      "source": [
        "import matplotlib.pyplot as plt\n",
        "%matplotlib inline\n",
        "\n",
        "freq_dict = Counter(tokens)\n",
        "\n",
        "freqs = list(freq_dict.values())\n",
        "freqs = sorted(freqs, reverse = True)\n",
        "\n",
        "fig, ax = plt.subplots()\n",
        "ax.plot(freqs[:300], range(300))\n",
        "plt.show()"
      ],
      "metadata": {
        "id": "Mmqxd34GZWhR"
      },
      "execution_count": null,
      "outputs": []
    },
    {
      "cell_type": "code",
      "source": [
        "from tqdm import tqdm\n",
        "import nltk\n",
        "nltk.download('punkt')\n",
        "from nltk.tokenize import word_tokenize\n",
        "from string import punctuation\n",
        "\n",
        "cnt = Counter()\n",
        "n_words = []\n",
        "n_tokens = []\n",
        "tokens = []\n",
        "for index, row in tqdm(json_df.iterrows(), total = len(json_df)):\n",
        "    tokens = word_tokenize(row['text'])\n",
        "    cnt.update([token for token in tokens if token not in punctuation])\n",
        "    n_words.append(len(cnt))\n",
        "    n_tokens.append(sum(cnt.values()))"
      ],
      "metadata": {
        "id": "TP2FeuamhZ0j"
      },
      "execution_count": null,
      "outputs": []
    },
    {
      "cell_type": "code",
      "source": [
        "fig, ax = plt.subplots()\n",
        "ax.plot(n_tokens, n_words)\n",
        "plt.show()"
      ],
      "metadata": {
        "id": "BHnoFxOFhcHL"
      },
      "execution_count": null,
      "outputs": []
    },
    {
      "cell_type": "markdown",
      "source": [
        "5. Ответьте на следующие вопросы:\n",
        "\n",
        "- какое слово встречается чаще, \"сотрудник\" или \"клиент\"?\n",
        "- сколько раз встречается слова \"мошенничество\" и \"доверие\"?\n"
      ],
      "metadata": {
        "id": "5AtXypnchn8X"
      }
    },
    {
      "cell_type": "code",
      "source": [
        "import re #лемматизация всех данных занимает бесконечное время и ресурсы, починить не смогла, поэтому использую стемминг\n",
        "\n",
        "class Porter:\n",
        "\tPERFECTIVEGROUND =  re.compile(u\"((ив|ивши|ившись|ыв|ывши|ывшись)|((?<=[ая])(в|вши|вшись)))$\")\n",
        "\tREFLEXIVE = re.compile(u\"(с[яь])$\")\n",
        "\tADJECTIVE = re.compile(u\"(ее|ие|ые|ое|ими|ыми|ей|ий|ый|ой|ем|им|ым|ом|его|ого|ему|ому|их|ых|ую|юю|ая|яя|ою|ею)$\")\n",
        "\tPARTICIPLE = re.compile(u\"((ивш|ывш|ующ)|((?<=[ая])(ем|нн|вш|ющ|щ)))$\")\n",
        "\tVERB = re.compile(u\"((ила|ыла|ена|ейте|уйте|ите|или|ыли|ей|уй|ил|ыл|им|ым|ен|ило|ыло|ено|ят|ует|уют|ит|ыт|ены|ить|ыть|ишь|ую|ю)|((?<=[ая])(ла|на|ете|йте|ли|й|л|ем|н|ло|но|ет|ют|ны|ть|ешь|нно)))$\")\n",
        "\tNOUN = re.compile(u\"(а|ев|ов|ие|ье|е|иями|ями|ами|еи|ии|и|ией|ей|ой|ий|й|иям|ям|ием|ем|ам|ом|о|у|ах|иях|ях|ы|ь|ию|ью|ю|ия|ья|я)$\")\n",
        "\tRVRE = re.compile(u\"^(.*?[аеиоуыэюя])(.*)$\")\n",
        "\tDERIVATIONAL = re.compile(u\".*[^аеиоуыэюя]+[аеиоуыэюя].*ость?$\")\n",
        "\tDER = re.compile(u\"ость?$\")\n",
        "\tSUPERLATIVE = re.compile(u\"(ейше|ейш)$\")\n",
        "\tI = re.compile(u\"и$\")\n",
        "\tP = re.compile(u\"ь$\")\n",
        "\tNN = re.compile(u\"нн$\")\n",
        "\n",
        "\tdef stem(word):\n",
        "\t\tword = word.lower()\n",
        "\t\tword = word.replace(u'ё', u'е')\n",
        "\t\tm = re.match(Porter.RVRE, word)\n",
        "\t\tif m and m.groups():\n",
        "\t\t\tpre = m.group(1)\n",
        "\t\t\trv = m.group(2)\n",
        "\t\t\ttemp = Porter.PERFECTIVEGROUND.sub('', rv, 1)\n",
        "\t\t\tif temp == rv:\n",
        "\t\t\t\trv = Porter.REFLEXIVE.sub('', rv, 1)\n",
        "\t\t\t\ttemp = Porter.ADJECTIVE.sub('', rv, 1)\n",
        "\t\t\t\tif temp != rv:\n",
        "\t\t\t\t\trv = temp\n",
        "\t\t\t\t\trv = Porter.PARTICIPLE.sub('', rv, 1)\n",
        "\t\t\t\telse:\n",
        "\t\t\t\t\ttemp = Porter.VERB.sub('', rv, 1)\n",
        "\t\t\t\t\tif temp == rv:\n",
        "\t\t\t\t\t\trv = Porter.NOUN.sub('', rv, 1)\n",
        "\t\t\t\t\telse:\n",
        "\t\t\t\t\t\trv = temp\n",
        "\t\t\telse:\n",
        "\t\t\t\trv = temp\n",
        "\t\t\t\n",
        "\t\t\trv = Porter.I.sub('', rv, 1)\n",
        "\n",
        "\t\t\tif re.match(Porter.DERIVATIONAL, rv):\n",
        "\t\t\t\trv = Porter.DER.sub('', rv, 1)\n",
        "\n",
        "\t\t\ttemp = Porter.P.sub('', rv, 1)\n",
        "\t\t\tif temp == rv:\n",
        "\t\t\t\trv = Porter.SUPERLATIVE.sub('', rv, 1)\n",
        "\t\t\t\trv = Porter.NN.sub(u'н', rv, 1)\n",
        "\t\t\telse:\n",
        "\t\t\t\trv = temp\n",
        "\t\t\tword = pre+rv\n",
        "\t\treturn word\n",
        "\tstem=staticmethod(stem)\n",
        "\n",
        "if __name__ == '__main__':\n",
        "\tprint(Porter.stem(u'устойчивость'))"
      ],
      "metadata": {
        "id": "hFFDPy5ahtBV"
      },
      "execution_count": null,
      "outputs": []
    },
    {
      "cell_type": "code",
      "source": [
        "m = Porter()"
      ],
      "metadata": {
        "id": "6-Y7lCaWiyZp"
      },
      "execution_count": null,
      "outputs": []
    },
    {
      "cell_type": "code",
      "source": [
        "import gensim\n",
        "from nltk.corpus import stopwords\n",
        "ru_stopwords = stopwords.words('russian')\n",
        "\n",
        "def preprocess(tokens):\n",
        "    return [word\n",
        "        for word in tokens\n",
        "            if (word not in ru_stopwords)]\n",
        "\n",
        "def sent_to_words(sentences):\n",
        "    for sent in sentences:\n",
        "        sent = gensim.utils.simple_preprocess(str(sent), deacc=True) \n",
        "        sent = preprocess(sent)\n",
        "        yield(list(map(m.stem,sent)))\n",
        "\n",
        "\n",
        "dt = json_df\n",
        "data = dt.text.values.tolist()\n",
        "data_words_stem = list(sent_to_words(data))"
      ],
      "metadata": {
        "id": "CAhBNANTjEvN"
      },
      "execution_count": null,
      "outputs": []
    },
    {
      "cell_type": "code",
      "source": [
        "tokens_stem = []\n",
        "for group in data_words:\n",
        "    tokens_stem.extend(group)\n",
        "c = Counter(tokens_stem)\n",
        "sorted_tuple = sorted(c.items(), key=operator.itemgetter(1), reverse=True)\n",
        "sort_tokens_stem = dict(sorted_tuple)\n",
        "lst = ['сотрудник','клиент','мошенничество','доверие']\n",
        "lst_stem = list(map(m.stem,lst))\n",
        "num = []\n",
        "for i in lst_stem:\n",
        "    num.append(sort_tokens_stem[i])\n",
        "print (f'слова {lst} встречаются соответственно {num} раз')\n",
        "\n",
        "#чаще встречается слово клиент"
      ],
      "metadata": {
        "id": "1zWGQt8KljvP"
      },
      "execution_count": null,
      "outputs": []
    },
    {
      "cell_type": "markdown",
      "source": [
        "6. В поле \"rating_grade\" записана оценка отзыва по шкале от 1 до 5. Используйте меру , для того, чтобы найти ключевые слова и биграмы для положительных отзывов (с оценкой 5) и отрицательных отзывов (с оценкой 1)"
      ],
      "metadata": {
        "id": "Qgsl5h81l02o"
      }
    },
    {
      "cell_type": "code",
      "source": [
        "#для рейтинга 5\n",
        "from sklearn.feature_extraction.text import TfidfVectorizer\n",
        "tfidf_vectorizer = TfidfVectorizer(min_df=2, ngram_range=(1,2), stop_words=ru_stopwords, norm=None).fit(dt.query('rating_grade==5').tokens)\n",
        "array_1 = tfidf_vectorizer.transform(dt.query('rating_grade==5').tokens)\n",
        "max_value = array_1.max(axis=0).toarray().ravel()\n",
        "sorted_by_tfidf = max_value.argsort()\n",
        "feature_names = np.array(tfidf_vectorizer.get_feature_names())\n",
        "feature_names[sorted_by_tfidf[-30:]]"
      ],
      "metadata": {
        "id": "vMvskftkl20l"
      },
      "execution_count": null,
      "outputs": []
    },
    {
      "cell_type": "code",
      "source": [
        "#для рейтинга 1\n",
        "tfidf_vectorizer = TfidfVectorizer(min_df=2, ngram_range=(1,2), stop_words=ru_stopwords, norm=None).fit(dt.query('rating_grade==1').tokens)\n",
        "array_1 = tfidf_vectorizer.transform(dt.query('rating_grade==1').tokens)\n",
        "max_value = array_1.max(axis=0).toarray().ravel()\n",
        "sorted_by_tfidf = max_value.argsort()\n",
        "feature_names = np.array(tfidf_vectorizer.get_feature_names())\n",
        "feature_names[sorted_by_tfidf[-30:]]"
      ],
      "metadata": {
        "id": "bUhjiNdZ_8Hv"
      },
      "execution_count": null,
      "outputs": []
    },
    {
      "cell_type": "markdown",
      "source": [
        "Часть 2. Тематическое моделирование"
      ],
      "metadata": {
        "id": "7dUrIB1rAF3x"
      }
    },
    {
      "cell_type": "markdown",
      "source": [],
      "metadata": {
        "id": "HQEIXM73HJKE"
      }
    },
    {
      "cell_type": "markdown",
      "source": [
        "Латентно-семантический анализ (LSA, LSI)"
      ],
      "metadata": {
        "id": "p297obuwANr7"
      }
    },
    {
      "cell_type": "code",
      "source": [
        "from gensim.corpora import Dictionary\n",
        "from gensim.models import TfidfModel\n",
        "from gensim import similarities\n",
        "from gensim.models import lsimodel\n",
        "\n",
        "texts = [text.split() for text in dt.tokens]\n",
        "dictionary = Dictionary(texts)\n",
        "corpus = [dictionary.doc2bow(text) for text in texts]\n",
        "tfidf = TfidfModel(corpus)\n",
        "corpus_tfidf = tfidf[corpus]"
      ],
      "metadata": {
        "id": "snwAwjfEsLpC"
      },
      "execution_count": null,
      "outputs": []
    },
    {
      "cell_type": "code",
      "source": [
        "%%time\n",
        "lsi = lsimodel.LsiModel(corpus=corpus_tfidf, id2word=dictionary, num_topics=30)"
      ],
      "metadata": {
        "id": "YTmgvrKOsVst"
      },
      "execution_count": null,
      "outputs": []
    },
    {
      "cell_type": "code",
      "source": [
        "lsi.show_topics(10)"
      ],
      "metadata": {
        "id": "132gZG4esYHr"
      },
      "execution_count": null,
      "outputs": []
    },
    {
      "cell_type": "markdown",
      "source": [
        "LDA модель"
      ],
      "metadata": {
        "id": "q9Ne57awwfJm"
      }
    },
    {
      "cell_type": "code",
      "source": [
        "from gensim.models import ldamodel\n",
        "%time lda = ldamodel.LdaModel(corpus=corpus_tfidf, id2word=dictionary, num_topics=20, chunksize=50, update_every=1, passes=2)"
      ],
      "metadata": {
        "id": "c7cPpzhTwhzg"
      },
      "execution_count": null,
      "outputs": []
    },
    {
      "cell_type": "code",
      "source": [
        "lda.show_topics(num_topics=8, num_words=5, formatted=False)"
      ],
      "metadata": {
        "id": "g7W8Q2TXxM5i"
      },
      "execution_count": null,
      "outputs": []
    },
    {
      "cell_type": "code",
      "source": [
        "pip install pyLDAvis"
      ],
      "metadata": {
        "id": "2S3FkYQhxPY-"
      },
      "execution_count": null,
      "outputs": []
    },
    {
      "cell_type": "code",
      "source": [
        "import pyLDAvis\n",
        "import pyLDAvis.gensim as gensimvis\n",
        "corpus=corpus_tfidf\n",
        "%time vis_data = gensimvis.prepare(lda, corpus, dictionary)"
      ],
      "metadata": {
        "id": "m1pA6srU0UYv"
      },
      "execution_count": null,
      "outputs": []
    },
    {
      "cell_type": "code",
      "source": [
        "pyLDAvis.display(vis_data)"
      ],
      "metadata": {
        "id": "YRMeZNY70WnZ"
      },
      "execution_count": null,
      "outputs": []
    },
    {
      "cell_type": "code",
      "source": [],
      "metadata": {
        "id": "rCYnFvSvHh3G"
      },
      "execution_count": null,
      "outputs": []
    },
    {
      "cell_type": "markdown",
      "source": [
        "Часть 3. Классификация текстов"
      ],
      "metadata": {
        "id": "1NIh0jy9HiPv"
      }
    },
    {
      "cell_type": "code",
      "source": [
        "import pandas as pd\n",
        "import numpy as np\n",
        "from sklearn.metrics import *\n",
        "from sklearn.model_selection import train_test_split\n",
        "from sklearn.pipeline import Pipeline\n",
        "\n",
        "df = dt.query(\"rating_grade in [1,5]\")\n",
        "\n",
        "x_train, x_test, y_train, y_test = train_test_split(df.tokens, df.rating_grade, stratify = df.rating_grade)"
      ],
      "metadata": {
        "id": "SvsYjtbRHkHc"
      },
      "execution_count": null,
      "outputs": []
    },
    {
      "cell_type": "code",
      "source": [
        "from sklearn.feature_extraction.text import CountVectorizer\n",
        "from sklearn.linear_model import LogisticRegression\n",
        "\n",
        "vec = CountVectorizer(analyzer='char', ngram_range=(1, 1))\n",
        "bow = vec.fit_transform(x_train)\n",
        "clf = LogisticRegression(random_state=42)\n",
        "clf.fit(bow, y_train)\n",
        "pred = clf.predict(vec.transform(x_test))\n",
        "print(classification_report(pred, y_test))"
      ],
      "metadata": {
        "id": "g6T2KH3AM90U"
      },
      "execution_count": null,
      "outputs": []
    },
    {
      "cell_type": "code",
      "source": [
        "vec = CountVectorizer(analyzer='char', ngram_range=(1, 2))\n",
        "bow = vec.fit_transform(x_train)\n",
        "clf = LogisticRegression(random_state=42)\n",
        "clf.fit(bow, y_train)\n",
        "pred = clf.predict(vec.transform(x_test))\n",
        "print(classification_report(pred, y_test))"
      ],
      "metadata": {
        "id": "4dlCoExeQoJE"
      },
      "execution_count": null,
      "outputs": []
    },
    {
      "cell_type": "code",
      "source": [
        "vec = CountVectorizer(analyzer='char', ngram_range=(1, 3))\n",
        "bow = vec.fit_transform(x_train)\n",
        "clf = LogisticRegression(random_state=42)\n",
        "clf.fit(bow, y_train)\n",
        "pred = clf.predict(vec.transform(x_test))\n",
        "print(classification_report(pred, y_test))"
      ],
      "metadata": {
        "id": "_FxG1Px3Ex5k"
      },
      "execution_count": null,
      "outputs": []
    },
    {
      "cell_type": "code",
      "source": [
        "from sklearn.feature_extraction.text import TfidfVectorizer\n",
        "\n",
        "vec = TfidfVectorizer()\n",
        "bow = vec.fit_transform(x_train)\n",
        "clf = LogisticRegression(random_state=42, solver='liblinear')\n",
        "clf.fit(bow, y_train)\n",
        "pred = clf.predict(vec.transform(x_test))\n",
        "print(classification_report(pred, y_test))"
      ],
      "metadata": {
        "id": "jkn4NOoRE13O"
      },
      "execution_count": null,
      "outputs": []
    }
  ]
}